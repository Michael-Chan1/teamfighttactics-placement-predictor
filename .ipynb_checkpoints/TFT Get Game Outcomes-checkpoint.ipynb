{
 "cells": [
  {
   "cell_type": "code",
   "execution_count": 1,
   "metadata": {},
   "outputs": [],
   "source": [
    "#import libraries\n",
    "import requests\n",
    "import pandas as pd\n",
    "import time\n",
    "import numpy as np "
   ]
  },
  {
   "cell_type": "code",
   "execution_count": 8,
   "metadata": {},
   "outputs": [],
   "source": [
    "#API call for top players\n",
    "def get_top_player_ids():\n",
    "    API_KEY = \"RGAPI-4912c48d-414b-4c5f-9412-df8f28839e03\"\n",
    "    url = \"https://na1.api.riotgames.com/tft/league/v1/challenger?api_key=\"+API_KEY\n",
    "    response_top_players = requests.get(url).json()\n",
    "\n",
    "    summonerIds = []\n",
    "    for entry in response_top_players['entries']:\n",
    "        summonerIds.append(entry['summonerId'])\n",
    "    print(\"Completed retriving summonerIds\")\n",
    "    return summonerIds"
   ]
  },
  {
   "cell_type": "code",
   "execution_count": 9,
   "metadata": {},
   "outputs": [],
   "source": [
    "#API call for the top player's list of match ids\n",
    "def get_matches_ids():\n",
    "    API_KEY = \"RGAPI-4912c48d-414b-4c5f-9412-df8f28839e03\"\n",
    "    max_calls = 2\n",
    "    puuids = []\n",
    "    summonerIds = get_top_player_ids()\n",
    "    start_time = time.time()\n",
    "    time.sleep(120)\n",
    "    \n",
    "    for id in summonerIds:\n",
    "        if max_calls % 100 == 0:\n",
    "            time.sleep(120)\n",
    "        elif max_calls % 20 == 0:\n",
    "            time.sleep(2)\n",
    "        url = \"https://na1.api.riotgames.com/tft/summoner/v1/summoners/\" + id + \"?api_key=\"+API_KEY\n",
    "        response_top_players_id = requests.get(url).json()\n",
    "        #if len(response_top_players_id.keys()) > 2:\n",
    "        puuids.append(response_top_players_id['puuid'])\n",
    "        max_calls += 1\n",
    "\n",
    "    max_calls = 1\n",
    "    match_ids = []\n",
    "    time.sleep(120)\n",
    "    \n",
    "    for id in puuids:\n",
    "        if max_calls % 100 == 0:\n",
    "            time.sleep(120)\n",
    "        elif max_calls % 20 == 0:\n",
    "            time.sleep(2)\n",
    "        url = \"https://americas.api.riotgames.com/tft/match/v1/matches/by-puuid/\" + id + \"/ids?start=0&count=20&api_key=\"+API_KEY\n",
    "        response_top_players_match_id = requests.get(url).json()\n",
    "        #if isinstance(response_top_players_match_id, list):\n",
    "        match_ids.extend(response_top_players_match_id)\n",
    "    match_ids = list(dict.fromkeys(match_ids))\n",
    "    \n",
    "    end_time = time.time()\n",
    "    time_lapsed = end_time - start_time\n",
    "    print(\"Completed retriving matchIds \" + str(time_lapsed) + \" seconds\")\n",
    "    return match_ids"
   ]
  },
  {
   "cell_type": "code",
   "execution_count": 10,
   "metadata": {},
   "outputs": [],
   "source": [
    "#API call for matches\n",
    "def get_matches():\n",
    "    API_KEY = \"RGAPI-4912c48d-414b-4c5f-9412-df8f28839e03\"\n",
    "    max_match_calls = 1\n",
    "    match_infomation = []\n",
    "    match_ids = get_matches_ids()\n",
    "    start_time = time.time()\n",
    "    time.sleep(120)\n",
    "    \n",
    "    for id in match_ids:\n",
    "        if max_match_calls % 100 == 0:\n",
    "            time.sleep(120)\n",
    "        elif max_match_calls % 20 == 0:\n",
    "            time.sleep(2)\n",
    "        url = \"https://americas.api.riotgames.com/tft/match/v1/matches/\" + id + \"/?api_key=\"+API_KEY\n",
    "        response_matches = requests.get(url).json()\n",
    "        #if len(response_matches.keys()) > 2:\n",
    "        match_infomation.append(response_matches)\n",
    "        max_match_calls += 1\n",
    "    \n",
    "    end_time = time.time()\n",
    "    time_lapsed = end_time - start_time\n",
    "    print(\"Completed retriving match_infomation after \" + str(time_lapsed) + \" seconds\")\n",
    "    return match_infomation"
   ]
  },
  {
   "cell_type": "code",
   "execution_count": 5,
   "metadata": {},
   "outputs": [],
   "source": [
    "#Function that returns the game outcomes \n",
    "def get_units(df, match_infomation):\n",
    "    game = 0\n",
    "    for match in match_infomation:\n",
    "        participants = match['info']['participants']\n",
    "        for participant in participants:\n",
    "            units = participant['units']\n",
    "            total_units = 0\n",
    "            for unit in units:\n",
    "                if \"Nomsy\" in unit['character_id']:\n",
    "                    total_units+=1\n",
    "                elif (\"Dragon\" in unit['character_id']) | (\"AoShin\" in unit['character_id']) | (\"AurelionSol\" in unit['character_id']) | (\"Shyvana\" in unit['character_id']): \n",
    "                    total_units+=2\n",
    "                else:\n",
    "                    total_units+=1\n",
    "            for unit in units:\n",
    "                unit_name = unit['character_id']\n",
    "                num_items = len(unit['items'])\n",
    "                tier = unit['tier']\n",
    "                placement = participant['placement']\n",
    "\n",
    "                df = df.append({'unit_name': unit_name,\n",
    "                                'num_items': num_items,\n",
    "                                'tier': tier,\n",
    "                                'placement': placement,\n",
    "                               'game': game,\n",
    "                               'total_units': total_units}, ignore_index=True)\n",
    "        game += 1\n",
    "    return df"
   ]
  },
  {
   "cell_type": "code",
   "execution_count": 11,
   "metadata": {},
   "outputs": [
    {
     "name": "stdout",
     "output_type": "stream",
     "text": [
      "Completed retriving summonerIds\n",
      "Completed retriving matchIds 291.8899929523468 seconds\n",
      "Completed retriving match_infomation after 1073.442409992218 seconds\n"
     ]
    }
   ],
   "source": [
    "#Main\n",
    "df = pd.DataFrame(columns=[\"unit_name\", \"num_items\", \"tier\", \"placement\", \"game\", \"total_units\"])\n",
    "match_infomation = get_matches()\n",
    "df = get_units(df, match_infomation)\n",
    "df.to_csv(\"game_outcomes.csv\")"
   ]
  },
  {
   "cell_type": "code",
   "execution_count": null,
   "metadata": {},
   "outputs": [],
   "source": []
  }
 ],
 "metadata": {
  "kernelspec": {
   "display_name": "Python 3",
   "language": "python",
   "name": "python3"
  },
  "language_info": {
   "codemirror_mode": {
    "name": "ipython",
    "version": 3
   },
   "file_extension": ".py",
   "mimetype": "text/x-python",
   "name": "python",
   "nbconvert_exporter": "python",
   "pygments_lexer": "ipython3",
   "version": "3.8.5"
  }
 },
 "nbformat": 4,
 "nbformat_minor": 4
}
