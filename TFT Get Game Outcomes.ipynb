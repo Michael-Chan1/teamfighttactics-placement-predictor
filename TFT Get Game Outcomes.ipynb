{
 "cells": [
  {
   "cell_type": "code",
   "execution_count": 1,
   "metadata": {},
   "outputs": [],
   "source": [
    "#import libraries\n",
    "import requests\n",
    "import pandas as pd\n",
    "import time\n",
    "import numpy as np "
   ]
  },
  {
   "cell_type": "code",
   "execution_count": 8,
   "metadata": {},
   "outputs": [],
   "source": [
    "#API call for top players\n",
    "def get_top_player_ids():\n",
    "    API_KEY = \"RGAPI-4912c48d-414b-4c5f-9412-df8f28839e03\"\n",
    "    url = \"https://na1.api.riotgames.com/tft/league/v1/challenger?api_key=\"+API_KEY\n",
    "    response_top_players = requests.get(url).json()\n",
    "\n",
    "    summonerIds = []\n",
    "    for entry in response_top_players['entries']:\n",
    "        summonerIds.append(entry['summonerId'])\n",
    "    print(\"Completed retriving summonerIds\")\n",
    "    return summonerIds"
   ]
  },
  {
   "cell_type": "code",
   "execution_count": 9,
   "metadata": {},
   "outputs": [],
   "source": [
    "#API call for the top player's list of match ids\n",
    "def get_matches_ids():\n",
    "    API_KEY = \"RGAPI-4912c48d-414b-4c5f-9412-df8f28839e03\"\n",
    "    max_calls = 2\n",
    "    puuids = []\n",
    "    summonerIds = get_top_player_ids()\n",
    "    start_time = time.time()\n",
    "    time.sleep(120)\n",
    "    \n",
    "    for id in summonerIds:\n",
    "        if max_calls % 100 == 0:\n",
    "            time.sleep(120)\n",
    "        elif max_calls % 20 == 0:\n",
    "            time.sleep(2)\n",
    "        url = \"https://na1.api.riotgames.com/tft/summoner/v1/summoners/\" + id + \"?api_key=\"+API_KEY\n",
    "        response_top_players_id = requests.get(url).json()\n",
    "        #if len(response_top_players_id.keys()) > 2:\n",
    "        puuids.append(response_top_players_id['puuid'])\n",
    "        max_calls += 1\n",
    "\n",
    "    max_calls = 1\n",
    "    match_ids = []\n",
    "    time.sleep(120)\n",
    "    \n",
    "    for id in puuids:\n",
    "        if max_calls % 100 == 0:\n",
    "            time.sleep(120)\n",
    "        elif max_calls % 20 == 0:\n",
    "            time.sleep(2)\n",
    "        url = \"https://americas.api.riotgames.com/tft/match/v1/matches/by-puuid/\" + id + \"/ids?start=0&count=20&api_key=\"+API_KEY\n",
    "        response_top_players_match_id = requests.get(url).json()\n",
    "        #if isinstance(response_top_players_match_id, list):\n",
    "        match_ids.extend(response_top_players_match_id)\n",
    "    match_ids = list(dict.fromkeys(match_ids))\n",
    "    \n",
    "    end_time = time.time()\n",
    "    time_lapsed = end_time - start_time\n",
    "    print(\"Completed retriving matchIds \" + str(time_lapsed) + \" seconds\")\n",
    "    return match_ids"
   ]
  },
  {
   "cell_type": "code",
   "execution_count": 10,
   "metadata": {},
   "outputs": [],
   "source": [
    "#API call for matches\n",
    "def get_matches():\n",
    "    API_KEY = \"RGAPI-4912c48d-414b-4c5f-9412-df8f28839e03\"\n",
    "    max_match_calls = 1\n",
    "    match_infomation = []\n",
    "    match_ids = get_matches_ids()\n",
    "    start_time = time.time()\n",
    "    time.sleep(120)\n",
    "    \n",
    "    for id in match_ids:\n",
    "        if max_match_calls % 100 == 0:\n",
    "            time.sleep(120)\n",
    "        elif max_match_calls % 20 == 0:\n",
    "            time.sleep(2)\n",
    "        url = \"https://americas.api.riotgames.com/tft/match/v1/matches/\" + id + \"/?api_key=\"+API_KEY\n",
    "        response_matches = requests.get(url).json()\n",
    "        #if len(response_matches.keys()) > 2:\n",
    "        match_infomation.append(response_matches)\n",
    "        max_match_calls += 1\n",
    "    \n",
    "    end_time = time.time()\n",
    "    time_lapsed = end_time - start_time\n",
    "    print(\"Completed retriving match_infomation after \" + str(time_lapsed) + \" seconds\")\n",
    "    return match_infomation"
   ]
  },
  {
   "cell_type": "code",
   "execution_count": 5,
   "metadata": {},
   "outputs": [],
   "source": [
    "#Function that returns the game outcomes \n",
    "def get_units(df, match_infomation):\n",
    "    game = 0\n",
    "    for match in match_infomation:\n",
    "        participants = match['info']['participants']\n",
    "        for participant in participants:\n",
    "            units = participant['units']\n",
    "            total_units = 0\n",
    "            for unit in units:\n",
    "                if \"Nomsy\" in unit['character_id']:\n",
    "                    total_units+=1\n",
    "                elif (\"Dragon\" in unit['character_id']) | (\"AoShin\" in unit['character_id']) | (\"AurelionSol\" in unit['character_id']) | (\"Shyvana\" in unit['character_id']): \n",
    "                    total_units+=2\n",
    "                else:\n",
    "                    total_units+=1\n",
    "            for unit in units:\n",
    "                unit_name = unit['character_id']\n",
    "                num_items = len(unit['items'])\n",
    "                tier = unit['tier']\n",
    "                placement = participant['placement']\n",
    "\n",
    "                df = df.append({'unit_name': unit_name,\n",
    "                                'num_items': num_items,\n",
    "                                'tier': tier,\n",
    "                                'placement': placement,\n",
    "                               'game': game,\n",
    "                               'total_units': total_units}, ignore_index=True)\n",
    "        game += 1\n",
    "    return df"
   ]
  },
  {
   "cell_type": "code",
   "execution_count": 11,
   "metadata": {},
   "outputs": [
    {
     "name": "stdout",
     "output_type": "stream",
     "text": [
      "Completed retriving summonerIds\n",
      "Completed retriving matchIds 291.8899929523468 seconds\n",
      "Completed retriving match_infomation after 1073.442409992218 seconds\n"
     ]
    }
   ],
   "source": [
    "#Main\n",
    "df = pd.DataFrame(columns=[\"unit_name\", \"num_items\", \"tier\", \"placement\", \"game\", \"total_units\"])\n",
    "match_infomation = get_matches()\n",
    "df = get_units(df, match_infomation)\n",
    "df.to_csv(\"game_outcomes.csv\")"
   ]
  },
  {
   "cell_type": "code",
   "execution_count": null,
   "metadata": {},
   "outputs": [],
   "source": [
    "import pandas as pd \n",
    "import matplotlib.pyplot as plt \n",
    "import numpy as np \n",
    "\n",
    "# get dummy data \n",
    "df = pd.read_csv(\"game_outcomes.csv\")\n",
    "\n",
    "# train test split \n",
    "from sklearn.model_selection import train_test_split\n",
    "df = pd.read_csv(\"game_outcomes.csv\")\n",
    "num_games = df.iloc[df.index[-1]]['game']\n",
    "df_train = df.loc[df['game'] % 5 != 0]\n",
    "df_test = df.loc[df['game'] % 5 == 0]\n",
    "y = df_train.placement.values\n",
    "X = pd.get_dummies(df_train.drop(['placement', 'game'], axis =1))\n",
    "y_test = df_test.placement.values\n",
    "y_test_games = df_test.game.values\n",
    "X_test = pd.get_dummies(df_test.drop(['placement', 'game'], axis =1))\n",
    "\n",
    "from sklearn.utils import shuffle\n",
    "X_train, y_train = shuffle(X, y, random_state=0)\n",
    "\n",
    "# random forest \n",
    "from sklearn.ensemble import RandomForestRegressor\n",
    "rf = RandomForestRegressor()\n",
    "\n",
    "rf.fit(X_train,y_train)\n",
    "\n",
    "num_incorrect = 0\n",
    "games = 0\n",
    "for i in range(5, num_games, 5):\n",
    "    current_placement = 0\n",
    "    indicies = np.where(y_test_games == i)\n",
    "    avg = 0\n",
    "    if (y[indicies] == 1).sum() == 1:\n",
    "        p1 = rf.predict(X_test[np.where(y[indicies] == 1)[0][0]:np.where(y[indicies] == 1)[0][-1] + 1]).sum()/(y[indicies] == 1).sum()\n",
    "    elif (y[indicies] == 1).sum() == 0:\n",
    "        p1 = 10\n",
    "    else:\n",
    "        p1 = rf.predict(X_test[np.where(y[indicies] == 1)[0][0]:np.where(y[indicies] == 1)[0][-1]]).sum()/(y[indicies] == 1).sum()\n",
    "    \n",
    "    if (y[indicies] == 2).sum() == 1:\n",
    "        p2 = rf.predict(X_test[np.where(y[indicies] == 2)[0][0]:np.where(y[indicies] == 2)[0][-1] + 1]).sum()/(y[indicies] == 2).sum()\n",
    "    elif (y[indicies] == 2).sum() == 0:\n",
    "        p2 = 10\n",
    "    else:\n",
    "        p2 = rf.predict(X_test[np.where(y[indicies] == 2)[0][0]:np.where(y[indicies] == 2)[0][-1]]).sum()/(y[indicies] == 2).sum()\n",
    "        \n",
    "    if (y[indicies] == 3).sum() == 1:\n",
    "        p3 = rf.predict(X_test[np.where(y[indicies] == 3)[0][0]:np.where(y[indicies] == 3)[0][-1] + 1]).sum()/(y[indicies] == 3).sum()\n",
    "    elif (y[indicies] == 3).sum() == 0:\n",
    "        p3 = 10\n",
    "    else:\n",
    "        p3 = rf.predict(X_test[np.where(y[indicies] == 3)[0][0]:np.where(y[indicies] == 3)[0][-1]]).sum()/(y[indicies] == 3).sum()\n",
    "        \n",
    "    if (y[indicies] == 4).sum() == 1:\n",
    "        p4 = rf.predict(X_test[np.where(y[indicies] == 4)[0][0]:np.where(y[indicies] == 4)[0][-1] + 1]).sum()/(y[indicies] == 4).sum()\n",
    "    elif (y[indicies] == 4).sum() == 0:\n",
    "        p4 = 10\n",
    "    else:\n",
    "        p4 = rf.predict(X_test[np.where(y[indicies] == 4)[0][0]:np.where(y[indicies] == 4)[0][-1]]).sum()/(y[indicies] == 4).sum()\n",
    "                               \n",
    "    if (y[indicies] == 5).sum() == 1:\n",
    "        p5 = rf.predict(X_test[np.where(y[indicies] == 5)[0][0]:np.where(y[indicies] == 5)[0][-1] + 1]).sum()/(y[indicies] == 5).sum()\n",
    "    elif (y[indicies] == 5).sum() == 0:\n",
    "        p5 = 10\n",
    "    else:\n",
    "        p5 = rf.predict(X_test[np.where(y[indicies] == 5)[0][0]:np.where(y[indicies] == 5)[0][-1]]).sum()/(y[indicies] == 5).sum()\n",
    "                               \n",
    "    if (y[indicies] == 6).sum() == 1:\n",
    "        p6 = rf.predict(X_test[np.where(y[indicies] == 6)[0][0]:np.where(y[indicies] == 6)[0][-1] + 1]).sum()/(y[indicies] == 6).sum()\n",
    "    elif (y[indicies] == 6).sum() == 0:\n",
    "        p6 = 10\n",
    "    else:                        \n",
    "        p6 = rf.predict(X_test[np.where(y[indicies] == 6)[0][0]:np.where(y[indicies] == 6)[0][-1]]).sum()/(y[indicies] == 6).sum()\n",
    "                               \n",
    "    if (y[indicies] == 7).sum() == 1:\n",
    "        p7 = rf.predict(X_test[np.where(y[indicies] == 7)[0][0]:np.where(y[indicies] == 7)[0][-1] + 1]).sum()/(y[indicies] == 7).sum()\n",
    "    elif (y[indicies] == 7).sum() == 0:\n",
    "        p7 = 10\n",
    "    else:\n",
    "        p7 = rf.predict(X_test[np.where(y[indicies] == 7)[0][0]:np.where(y[indicies] == 7)[0][-1]]).sum()/(y[indicies] == 7).sum()\n",
    "                               \n",
    "    if (y[indicies] == 8).sum() == 1:\n",
    "        p8 = rf.predict(X_test[np.where(y[indicies] == 8)[0][0]:np.where(y[indicies] == 8)[0][-1] + 1]).sum()/(y[indicies] == 8).sum()\n",
    "    elif (y[indicies] == 8).sum() == 0:\n",
    "        p8 = 10\n",
    "    else:\n",
    "        p8 = rf.predict(X_test[np.where(y[indicies] == 8)[0][0]:np.where(y[indicies] == 8)[0][-1]]).sum()/(y[indicies] == 8).sum()\n",
    "    actual_placements = [0, p1, p2, p3, p4, p5, p6, p7, p8]\n",
    "    predicted_placements = [0, p1, p2, p3, p4, p5, p6, p7, p8]\n",
    "    predicted_placements.sort()\n",
    "    avg += np.sum((predicted_placements - np.average(predicted_placements)) * (actual_placements - np.average(actual_placements)))/(8 * np.std(predicted_placements) * np.std(actual_placements))\n",
    "    num_incorrect += (abs(predicted_placements.index(p1) - 1) + abs(predicted_placements.index(p2) - 2) + abs(predicted_placements.index(p3) - 3) + abs(predicted_placements.index(p4) - 4) + abs(predicted_placements.index(p5) - 5) + abs(predicted_placements.index(p6) - 6) + abs(predicted_placements.index(p7) - 7) + abs(predicted_placements.index(p8) - 8))\n",
    "    games += 1\n",
    "print(\"Accuracy = \" + str(1 - num_incorrect/(36 * games)) + \"      \" + str(avg/games))"
   ]
  },
  {
   "cell_type": "code",
   "execution_count": 19,
   "metadata": {},
   "outputs": [
    {
     "data": {
      "text/plain": [
       "5.880608393667217"
      ]
     },
     "execution_count": 19,
     "metadata": {},
     "output_type": "execute_result"
    }
   ],
   "source": [
    "np.std(predicted_placements)"
   ]
  },
  {
   "cell_type": "code",
   "execution_count": 5,
   "metadata": {},
   "outputs": [],
   "source": [
    "def twoSum(self, nums, target):\n",
    "    mem = {}\n",
    "        output = []\n",
    "        for idx, num in enumerate(nums):\n",
    "            if target-num in mem:\n",
    "                return idx, mem[target-num]\n",
    "            mem[num] = idx  "
   ]
  },
  {
   "cell_type": "code",
   "execution_count": 6,
   "metadata": {},
   "outputs": [
    {
     "data": {
      "text/plain": [
       "0"
      ]
     },
     "execution_count": 6,
     "metadata": {},
     "output_type": "execute_result"
    }
   ],
   "source": [
    "test()"
   ]
  },
  {
   "cell_type": "code",
   "execution_count": null,
   "metadata": {},
   "outputs": [],
   "source": []
  }
 ],
 "metadata": {
  "kernelspec": {
   "display_name": "Python 3",
   "language": "python",
   "name": "python3"
  },
  "language_info": {
   "codemirror_mode": {
    "name": "ipython",
    "version": 3
   },
   "file_extension": ".py",
   "mimetype": "text/x-python",
   "name": "python",
   "nbconvert_exporter": "python",
   "pygments_lexer": "ipython3",
   "version": "3.8.5"
  }
 },
 "nbformat": 4,
 "nbformat_minor": 4
}
